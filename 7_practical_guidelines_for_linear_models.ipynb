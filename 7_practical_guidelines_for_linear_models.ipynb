{
 "cells": [
  {
   "cell_type": "markdown",
   "id": "83e2ffda",
   "metadata": {},
   "source": [
    "# Практические рекомендации по линейным моделям"
   ]
  },
  {
   "cell_type": "code",
   "execution_count": null,
   "id": "8d7b0eea",
   "metadata": {},
   "outputs": [],
   "source": []
  },
  {
   "cell_type": "code",
   "execution_count": null,
   "id": "baa3d0e7",
   "metadata": {},
   "outputs": [],
   "source": []
  },
  {
   "cell_type": "code",
   "execution_count": null,
   "id": "b626c59d",
   "metadata": {},
   "outputs": [],
   "source": []
  },
  {
   "cell_type": "markdown",
   "id": "d49bfd0f",
   "metadata": {},
   "source": [
    "## Литература\n",
    "\n",
    "Специализация \"Машинное обучение и анализ данных\" от МФТИ и Яндекса на Coursera\n",
    "\n",
    "https://github.com/minhdai2410/machine-learning-data-analysis-yandex-mipt-coursera"
   ]
  },
  {
   "cell_type": "code",
   "execution_count": null,
   "id": "360fc510",
   "metadata": {},
   "outputs": [],
   "source": []
  }
 ],
 "metadata": {
  "kernelspec": {
   "display_name": "Python 3 (ipykernel)",
   "language": "python",
   "name": "python3"
  },
  "language_info": {
   "codemirror_mode": {
    "name": "ipython",
    "version": 3
   },
   "file_extension": ".py",
   "mimetype": "text/x-python",
   "name": "python",
   "nbconvert_exporter": "python",
   "pygments_lexer": "ipython3",
   "version": "3.9.12"
  }
 },
 "nbformat": 4,
 "nbformat_minor": 5
}
